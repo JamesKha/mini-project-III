{
 "cells": [
  {
   "cell_type": "code",
   "execution_count": null,
   "source": [],
   "outputs": [],
   "metadata": {}
  },
  {
   "cell_type": "markdown",
   "source": [
    "## Mini Project III"
   ],
   "metadata": {}
  },
  {
   "cell_type": "code",
   "execution_count": 400,
   "source": [
    "import pandas as pd\r\n",
    "import numpy as np\r\n",
    "import matplotlib.pyplot as plt\r\n",
    "import seaborn as sns\r\n",
    "import sklearn as sk\r\n",
    "from sklearn.cluster import KMeans\r\n",
    "from sklearn.decomposition import PCA\r\n",
    "import scipy.stats as stats\r\n",
    "from sklearn.cluster import DBSCAN"
   ],
   "outputs": [],
   "metadata": {}
  },
  {
   "cell_type": "code",
   "execution_count": 526,
   "source": [
    "customerInformation = pd.read_csv('twm_customer.csv',sep=\";\")\r\n",
    "accountInformation = pd.read_csv('twm_accounts.csv', sep=\";\")\r\n",
    "transactionsInformation = pd.read_csv('twm_transactions.csv', sep=\";\")\r\n",
    "creditAccountInformation = pd.read_csv('twm_credit_acct.csv',sep=\";\")\r\n",
    "savingAccountInformation = pd.read_csv('twm_savings_acct.csv', sep=\";\")"
   ],
   "outputs": [],
   "metadata": {}
  },
  {
   "cell_type": "code",
   "execution_count": 576,
   "source": [
    "savingAccountInformation['amountChanged'] = savingAccountInformation['ending_balance']-savingAccountInformation[\"starting_balance\"]"
   ],
   "outputs": [],
   "metadata": {}
  },
  {
   "cell_type": "code",
   "execution_count": 583,
   "source": [
    "endingandAmountChanged = savingAccountInformation.sort_values(by=[\"ending_balance\",\"amountChanged\"],ascending=[True,True])"
   ],
   "outputs": [],
   "metadata": {}
  },
  {
   "cell_type": "code",
   "execution_count": 587,
   "source": [
    "endingandAmountChanged = endingandAmountChanged[[\"ending_balance\",\"amountChanged\"]]"
   ],
   "outputs": [],
   "metadata": {}
  },
  {
   "cell_type": "code",
   "execution_count": null,
   "source": [
    "endingandAmountChanged"
   ],
   "outputs": [],
   "metadata": {}
  },
  {
   "cell_type": "code",
   "execution_count": null,
   "source": [
    "akm = km.fit_predict(newEndingandAmountChanged)"
   ],
   "outputs": [],
   "metadata": {}
  },
  {
   "cell_type": "code",
   "execution_count": 603,
   "source": [
    "z = stats.zscore(endingandAmountChanged)\r\n",
    "abs_z= np.abs(z)\r\n",
    "filtered_entries = (abs_z < 3).all(axis=1)\r\n",
    "newEndingandAmountChanged = endingandAmountChanged[filtered_entries]"
   ],
   "outputs": [],
   "metadata": {}
  },
  {
   "cell_type": "code",
   "execution_count": 604,
   "source": [
    "plot_clusters(newEndingandAmountChanged.values,akm,\"Ending Balance\",\"Amount Difference\",True)"
   ],
   "outputs": [
    {
     "output_type": "error",
     "ename": "IndexError",
     "evalue": "boolean index did not match indexed array along dimension 0; dimension is 408 but corresponding boolean dimension is 421",
     "traceback": [
      "\u001b[1;31m---------------------------------------------------------------------------\u001b[0m",
      "\u001b[1;31mIndexError\u001b[0m                                Traceback (most recent call last)",
      "\u001b[1;32m<ipython-input-604-f4f1a39d3d06>\u001b[0m in \u001b[0;36m<module>\u001b[1;34m\u001b[0m\n\u001b[1;32m----> 1\u001b[1;33m \u001b[0mplot_clusters\u001b[0m\u001b[1;33m(\u001b[0m\u001b[0mnewEndingandAmountChanged\u001b[0m\u001b[1;33m.\u001b[0m\u001b[0mvalues\u001b[0m\u001b[1;33m,\u001b[0m\u001b[0makm\u001b[0m\u001b[1;33m,\u001b[0m\u001b[1;34m\"Ending Balance\"\u001b[0m\u001b[1;33m,\u001b[0m\u001b[1;34m\"Amount Difference\"\u001b[0m\u001b[1;33m,\u001b[0m\u001b[1;32mTrue\u001b[0m\u001b[1;33m)\u001b[0m\u001b[1;33m\u001b[0m\u001b[1;33m\u001b[0m\u001b[0m\n\u001b[0m",
      "\u001b[1;32m<ipython-input-391-08c51b0b5f44>\u001b[0m in \u001b[0;36mplot_clusters\u001b[1;34m(X, y_res, xLabel, yLabel, plt_cluster_centers)\u001b[0m\n\u001b[0;32m      4\u001b[0m \u001b[1;33m\u001b[0m\u001b[0m\n\u001b[0;32m      5\u001b[0m    \u001b[1;32mfor\u001b[0m \u001b[0mcluster\u001b[0m \u001b[1;32min\u001b[0m \u001b[0mset\u001b[0m\u001b[1;33m(\u001b[0m\u001b[0my_res\u001b[0m\u001b[1;33m)\u001b[0m\u001b[1;33m:\u001b[0m\u001b[1;33m\u001b[0m\u001b[1;33m\u001b[0m\u001b[0m\n\u001b[1;32m----> 6\u001b[1;33m        \u001b[0mx\u001b[0m \u001b[1;33m=\u001b[0m \u001b[0mX\u001b[0m\u001b[1;33m[\u001b[0m\u001b[0my_res\u001b[0m \u001b[1;33m==\u001b[0m \u001b[0mcluster\u001b[0m\u001b[1;33m,\u001b[0m\u001b[1;36m0\u001b[0m\u001b[1;33m]\u001b[0m\u001b[1;33m\u001b[0m\u001b[1;33m\u001b[0m\u001b[0m\n\u001b[0m\u001b[0;32m      7\u001b[0m        \u001b[0my\u001b[0m \u001b[1;33m=\u001b[0m \u001b[0mX\u001b[0m\u001b[1;33m[\u001b[0m\u001b[0my_res\u001b[0m \u001b[1;33m==\u001b[0m \u001b[0mcluster\u001b[0m\u001b[1;33m,\u001b[0m\u001b[1;36m1\u001b[0m\u001b[1;33m]\u001b[0m\u001b[1;33m\u001b[0m\u001b[1;33m\u001b[0m\u001b[0m\n\u001b[0;32m      8\u001b[0m        \u001b[0mX_centroids\u001b[0m\u001b[1;33m.\u001b[0m\u001b[0mappend\u001b[0m\u001b[1;33m(\u001b[0m\u001b[0mnp\u001b[0m\u001b[1;33m.\u001b[0m\u001b[0mmean\u001b[0m\u001b[1;33m(\u001b[0m\u001b[0mx\u001b[0m\u001b[1;33m)\u001b[0m\u001b[1;33m)\u001b[0m\u001b[1;33m\u001b[0m\u001b[1;33m\u001b[0m\u001b[0m\n",
      "\u001b[1;31mIndexError\u001b[0m: boolean index did not match indexed array along dimension 0; dimension is 408 but corresponding boolean dimension is 421"
     ]
    }
   ],
   "metadata": {}
  },
  {
   "cell_type": "code",
   "execution_count": 600,
   "source": [
    "endingandAmountChanged"
   ],
   "outputs": [
    {
     "output_type": "execute_result",
     "data": {
      "text/plain": [
       "     ending_balance  amountChanged\n",
       "190            2.74        -163.31\n",
       "390            8.21        -120.19\n",
       "8              9.71        -242.53\n",
       "21            10.28        -173.16\n",
       "408           10.34        -156.90\n",
       "..              ...            ...\n",
       "188         9387.66       -2406.27\n",
       "375        10399.11        -313.75\n",
       "70         13404.16        4180.82\n",
       "56         16095.50       -1207.92\n",
       "272        22432.78       11079.85\n",
       "\n",
       "[421 rows x 2 columns]"
      ],
      "text/html": [
       "<div>\n",
       "<style scoped>\n",
       "    .dataframe tbody tr th:only-of-type {\n",
       "        vertical-align: middle;\n",
       "    }\n",
       "\n",
       "    .dataframe tbody tr th {\n",
       "        vertical-align: top;\n",
       "    }\n",
       "\n",
       "    .dataframe thead th {\n",
       "        text-align: right;\n",
       "    }\n",
       "</style>\n",
       "<table border=\"1\" class=\"dataframe\">\n",
       "  <thead>\n",
       "    <tr style=\"text-align: right;\">\n",
       "      <th></th>\n",
       "      <th>ending_balance</th>\n",
       "      <th>amountChanged</th>\n",
       "    </tr>\n",
       "  </thead>\n",
       "  <tbody>\n",
       "    <tr>\n",
       "      <th>190</th>\n",
       "      <td>2.74</td>\n",
       "      <td>-163.31</td>\n",
       "    </tr>\n",
       "    <tr>\n",
       "      <th>390</th>\n",
       "      <td>8.21</td>\n",
       "      <td>-120.19</td>\n",
       "    </tr>\n",
       "    <tr>\n",
       "      <th>8</th>\n",
       "      <td>9.71</td>\n",
       "      <td>-242.53</td>\n",
       "    </tr>\n",
       "    <tr>\n",
       "      <th>21</th>\n",
       "      <td>10.28</td>\n",
       "      <td>-173.16</td>\n",
       "    </tr>\n",
       "    <tr>\n",
       "      <th>408</th>\n",
       "      <td>10.34</td>\n",
       "      <td>-156.90</td>\n",
       "    </tr>\n",
       "    <tr>\n",
       "      <th>...</th>\n",
       "      <td>...</td>\n",
       "      <td>...</td>\n",
       "    </tr>\n",
       "    <tr>\n",
       "      <th>188</th>\n",
       "      <td>9387.66</td>\n",
       "      <td>-2406.27</td>\n",
       "    </tr>\n",
       "    <tr>\n",
       "      <th>375</th>\n",
       "      <td>10399.11</td>\n",
       "      <td>-313.75</td>\n",
       "    </tr>\n",
       "    <tr>\n",
       "      <th>70</th>\n",
       "      <td>13404.16</td>\n",
       "      <td>4180.82</td>\n",
       "    </tr>\n",
       "    <tr>\n",
       "      <th>56</th>\n",
       "      <td>16095.50</td>\n",
       "      <td>-1207.92</td>\n",
       "    </tr>\n",
       "    <tr>\n",
       "      <th>272</th>\n",
       "      <td>22432.78</td>\n",
       "      <td>11079.85</td>\n",
       "    </tr>\n",
       "  </tbody>\n",
       "</table>\n",
       "<p>421 rows × 2 columns</p>\n",
       "</div>"
      ]
     },
     "metadata": {},
     "execution_count": 600
    }
   ],
   "metadata": {}
  },
  {
   "cell_type": "code",
   "execution_count": 527,
   "source": [
    "mergedAccountActive = dfIncomeDroppedUnderAged.merge(savingAccountInformation, how='left', on=\"cust_id\")\r\n",
    "mergedAccountActive.groupby([\"state_code\",\"account_active\"]).size().unstack().plot(kind='bar')"
   ],
   "outputs": [
    {
     "output_type": "execute_result",
     "data": {
      "text/plain": [
       "<AxesSubplot:xlabel='state_code'>"
      ]
     },
     "metadata": {},
     "execution_count": 527
    },
    {
     "output_type": "display_data",
     "data": {
      "text/plain": [
       "<Figure size 576x396 with 1 Axes>"
      ],
      "image/png": "[encoded data removed]"
     },
     "metadata": {}
    }
   ],
   "metadata": {}
  },
  {
   "cell_type": "code",
   "execution_count": 560,
   "source": [
    "mergedSavingsAndCredit = mergedAccountActive.merge(creditAccountInformation,on=\"cust_id\")\r\n",
    "mergedSavingsAndCredit = mergedSavingsAndCredit.fillna(\"N\")[[\"cust_id\",\"account_active_x\",\"account_active_y\"]]"
   ],
   "outputs": [],
   "metadata": {}
  },
  {
   "cell_type": "code",
   "execution_count": null,
   "source": [],
   "outputs": [],
   "metadata": {}
  },
  {
   "cell_type": "code",
   "execution_count": 561,
   "source": [
    "mergedSavingsAndCredit['HavingAccountsInBoth'] = (mergedSavingsAndCredit[\"account_active_x\"]==mergedSavingsAndCredit[\"account_active_y\"])"
   ],
   "outputs": [],
   "metadata": {}
  },
  {
   "cell_type": "code",
   "execution_count": 569,
   "source": [
    "mergedSavingsAndCredit.merge(customerInformation, on = \"cust_id\")[[\"HavingAccountsInBoth\",\"state_code\"]].groupby([\"state_code\",\"HavingAccountsInBoth\"]).size().unstack().plot(kind='bar')"
   ],
   "outputs": [
    {
     "output_type": "execute_result",
     "data": {
      "text/plain": [
       "<AxesSubplot:xlabel='state_code'>"
      ]
     },
     "metadata": {},
     "execution_count": 569
    },
    {
     "output_type": "display_data",
     "data": {
      "text/plain": [
       "<Figure size 576x396 with 1 Axes>"
      ],
      "image/png": "[encoded data removed]"
     },
     "metadata": {}
    }
   ],
   "metadata": {}
  },
  {
   "cell_type": "code",
   "execution_count": 570,
   "source": [
    "mergedSavingsAndCredit.merge(customerInformation, on = \"cust_id\")[[\"HavingAccountsInBoth\",\"gender\"]].groupby([\"gender\",\"HavingAccountsInBoth\"]).size().unstack().plot(kind='bar')"
   ],
   "outputs": [
    {
     "output_type": "execute_result",
     "data": {
      "text/plain": [
       "<AxesSubplot:xlabel='gender'>"
      ]
     },
     "metadata": {},
     "execution_count": 570
    },
    {
     "output_type": "display_data",
     "data": {
      "text/plain": [
       "<Figure size 576x396 with 1 Axes>"
      ],
      "image/png": "[encoded data removed]"
     },
     "metadata": {}
    }
   ],
   "metadata": {}
  },
  {
   "cell_type": "code",
   "execution_count": 541,
   "source": [
    "def havingAnAccountInBoth(row):\r\n",
    "    if (row[\"account_active_x\"]==\"Y\") and (row[\"account_active_y\"]==\"Y\"):\r\n",
    "        return \"Yes\"\r\n",
    "    else:\r\n",
    "        return \"No\""
   ],
   "outputs": [],
   "metadata": {}
  },
  {
   "cell_type": "markdown",
   "source": [],
   "metadata": {}
  },
  {
   "cell_type": "code",
   "execution_count": 485,
   "source": [
    "len(mergedSavingsAndCredit[mergedSavingsAndCredit[\"account_active_x\"]!=mergedSavingsAndCredit[\"account_active_y\"]])"
   ],
   "outputs": [
    {
     "output_type": "execute_result",
     "data": {
      "text/plain": [
       "213"
      ]
     },
     "metadata": {},
     "execution_count": 485
    }
   ],
   "metadata": {}
  },
  {
   "cell_type": "code",
   "execution_count": 378,
   "source": [
    "dfIncomeDroppedUnderAged['stateCodeAverage'] = dfIncomeDroppedUnderAged.groupby('state_code')['income'].transform('mean')"
   ],
   "outputs": [],
   "metadata": {}
  },
  {
   "cell_type": "code",
   "execution_count": null,
   "source": [
    "dfIncomeDroppedUnderAged.groupby(['state_code', 'gender']).size().unstack().plot(kind='bar', stacked=True)"
   ],
   "outputs": [
    {
     "output_type": "execute_result",
     "data": {
      "text/plain": [
       "<AxesSubplot:xlabel='state_code'>"
      ]
     },
     "metadata": {},
     "execution_count": 160
    },
    {
     "output_type": "display_data",
     "data": {
      "text/plain": [
       "<Figure size 576x396 with 1 Axes>"
      ],
      "image/png": "[encoded data removed]"
     },
     "metadata": {}
    }
   ],
   "metadata": {}
  },
  {
   "cell_type": "code",
   "execution_count": null,
   "source": [
    "dfIncomeDroppedUnderAged['income'].describe()"
   ],
   "outputs": [
    {
     "output_type": "execute_result",
     "data": {
      "text/plain": [
       "count       645.000000\n",
       "mean      26322.520930\n",
       "std       21829.191959\n",
       "min        1039.000000\n",
       "25%       10818.000000\n",
       "50%       20184.000000\n",
       "75%       35237.000000\n",
       "max      144157.000000\n",
       "Name: income, dtype: float64"
      ]
     },
     "metadata": {},
     "execution_count": 173
    }
   ],
   "metadata": {}
  },
  {
   "cell_type": "code",
   "execution_count": null,
   "source": [
    "def ageClassfier(row):\r\n",
    "    if(row['age'] < 34):\r\n",
    "        return 'AgeGroupA'\r\n",
    "    elif (row['age'] < 46):\r\n",
    "        return 'AgeGroupB'\r\n",
    "    elif(row['age'] < 58):\r\n",
    "        return 'AgeGroupC'\r\n",
    "    else:\r\n",
    "        return 'AgeGroupD'"
   ],
   "outputs": [],
   "metadata": {}
  },
  {
   "cell_type": "code",
   "execution_count": null,
   "source": [
    "def incomeClassifier(row):\r\n",
    "    if(row['income'] < 10818):\r\n",
    "        return 'IncomeGroupA'\r\n",
    "    elif (row['income'] < 20184):\r\n",
    "        return 'IncomeGroupB'\r\n",
    "    elif(row['income'] < 35237):\r\n",
    "        return 'IncomeGroupC'\r\n",
    "    else:\r\n",
    "        return 'IncomeGroupD'"
   ],
   "outputs": [],
   "metadata": {}
  },
  {
   "cell_type": "code",
   "execution_count": null,
   "source": [
    "dfIncomeDroppedUnderAged['classifier'] = dfIncomeDroppedUnderAged.apply(ageClassfier,axis=1)"
   ],
   "outputs": [],
   "metadata": {}
  },
  {
   "cell_type": "code",
   "execution_count": null,
   "source": [
    "dfIncomeDroppedUnderAged['incomeClassifier']= dfIncomeDroppedUnderAged.apply(incomeClassifier,axis=1)"
   ],
   "outputs": [],
   "metadata": {}
  },
  {
   "cell_type": "code",
   "execution_count": null,
   "source": [
    "dfIncomeDroppedUnderAged.groupby(['state_code', 'classifier']).size().unstack().plot(kind='bar', stacked=True)"
   ],
   "outputs": [
    {
     "output_type": "execute_result",
     "data": {
      "text/plain": [
       "<AxesSubplot:xlabel='state_code'>"
      ]
     },
     "metadata": {},
     "execution_count": 181
    },
    {
     "output_type": "display_data",
     "data": {
      "text/plain": [
       "<Figure size 576x396 with 1 Axes>"
      ],
      "image/png": "[encoded data removed]"
     },
     "metadata": {}
    }
   ],
   "metadata": {}
  },
  {
   "cell_type": "code",
   "execution_count": null,
   "source": [
    "dfIncomeDroppedUnderAged.groupby(['state_code', 'incomeClassifier']).size().unstack().plot(kind='bar', stacked=True)"
   ],
   "outputs": [
    {
     "output_type": "execute_result",
     "data": {
      "text/plain": [
       "<AxesSubplot:xlabel='state_code'>"
      ]
     },
     "metadata": {},
     "execution_count": 176
    },
    {
     "output_type": "display_data",
     "data": {
      "text/plain": [
       "<Figure size 576x396 with 1 Axes>"
      ],
      "image/png": "[encoded data removed]"
     },
     "metadata": {}
    }
   ],
   "metadata": {}
  },
  {
   "cell_type": "code",
   "execution_count": null,
   "source": [
    "dfIncomeDroppedUnderAged.groupby(['state_code']).income.mean"
   ],
   "outputs": [
    {
     "output_type": "execute_result",
     "data": {
      "text/plain": [
       "<pandas.core.groupby.generic.DataFrameGroupBy object at 0x000001CA23EE2670>"
      ]
     },
     "metadata": {},
     "execution_count": 163
    }
   ],
   "metadata": {}
  },
  {
   "cell_type": "code",
   "execution_count": null,
   "source": [
    "customerInformation.groupby(['state_code', 'gender'])['income'].mean()"
   ],
   "outputs": [
    {
     "output_type": "execute_result",
     "data": {
      "text/plain": [
       "state_code  gender\n",
       "AL          F         11890.500000\n",
       "            M         12119.000000\n",
       "AZ          F         18981.625000\n",
       "            M         31687.750000\n",
       "CA          F         20085.373832\n",
       "                          ...     \n",
       "VA          M         86744.000000\n",
       "WA          F         20018.333333\n",
       "            M         16489.000000\n",
       "WI          F         13397.142857\n",
       "            M         27636.625000\n",
       "Name: income, Length: 66, dtype: float64"
      ]
     },
     "metadata": {},
     "execution_count": 159
    }
   ],
   "metadata": {}
  },
  {
   "cell_type": "code",
   "execution_count": null,
   "source": [
    "dfIncomeDroppedUnderAged = customerInformation.drop(customerInformation[customerInformation.income == 0].index)"
   ],
   "outputs": [],
   "metadata": {}
  },
  {
   "cell_type": "code",
   "execution_count": null,
   "source": [
    "description = dfIncomeDroppedUnderAged.income.describe()"
   ],
   "outputs": [],
   "metadata": {}
  },
  {
   "cell_type": "code",
   "execution_count": null,
   "source": [
    "plt.scatter(x, y, marker='o')"
   ],
   "outputs": [],
   "metadata": {}
  },
  {
   "cell_type": "code",
   "execution_count": null,
   "source": [
    "plt.bar(dfIncomeDroppedUnderAged['state_code'],dfIncomeDroppedUnderAged['stateCodeAverage'])"
   ],
   "outputs": [
    {
     "output_type": "execute_result",
     "data": {
      "text/plain": [
       "<BarContainer object of 666 artists>"
      ]
     },
     "metadata": {},
     "execution_count": 123
    },
    {
     "output_type": "display_data",
     "data": {
      "text/plain": [
       "<Figure size 576x396 with 1 Axes>"
      ],
      "image/png": "[encoded data removed]"
     },
     "metadata": {}
    }
   ],
   "metadata": {}
  },
  {
   "cell_type": "markdown",
   "source": [],
   "metadata": {}
  },
  {
   "cell_type": "code",
   "execution_count": null,
   "source": [
    "transactionsDataFrame = transactionsInformation[['acct_nbr',\"tran_amt\"]].groupby('acct_nbr').mean().sort_values(by='tran_amt')"
   ],
   "outputs": [],
   "metadata": {}
  },
  {
   "cell_type": "code",
   "execution_count": null,
   "source": [
    "transactionsDataFrame['numberOfTransactions'] = transactionsInformation.acct_nbr.value_counts()"
   ],
   "outputs": [],
   "metadata": {}
  },
  {
   "cell_type": "code",
   "execution_count": null,
   "source": [
    "transactionsDataFrame.describe()"
   ],
   "outputs": [
    {
     "output_type": "execute_result",
     "data": {
      "text/plain": [
       "          tran_amt  numberOfTransactions\n",
       "count  1398.000000           1398.000000\n",
       "mean     12.627973             55.493562\n",
       "std     279.413091             33.295895\n",
       "min    -351.851852              1.000000\n",
       "25%     -19.244820             26.000000\n",
       "50%      -1.711149             45.000000\n",
       "75%       7.776392             99.000000\n",
       "max    8735.140000            155.000000"
      ],
      "text/html": [
       "<div>\n",
       "<style scoped>\n",
       "    .dataframe tbody tr th:only-of-type {\n",
       "        vertical-align: middle;\n",
       "    }\n",
       "\n",
       "    .dataframe tbody tr th {\n",
       "        vertical-align: top;\n",
       "    }\n",
       "\n",
       "    .dataframe thead th {\n",
       "        text-align: right;\n",
       "    }\n",
       "</style>\n",
       "<table border=\"1\" class=\"dataframe\">\n",
       "  <thead>\n",
       "    <tr style=\"text-align: right;\">\n",
       "      <th></th>\n",
       "      <th>tran_amt</th>\n",
       "      <th>numberOfTransactions</th>\n",
       "    </tr>\n",
       "  </thead>\n",
       "  <tbody>\n",
       "    <tr>\n",
       "      <th>count</th>\n",
       "      <td>1398.000000</td>\n",
       "      <td>1398.000000</td>\n",
       "    </tr>\n",
       "    <tr>\n",
       "      <th>mean</th>\n",
       "      <td>12.627973</td>\n",
       "      <td>55.493562</td>\n",
       "    </tr>\n",
       "    <tr>\n",
       "      <th>std</th>\n",
       "      <td>279.413091</td>\n",
       "      <td>33.295895</td>\n",
       "    </tr>\n",
       "    <tr>\n",
       "      <th>min</th>\n",
       "      <td>-351.851852</td>\n",
       "      <td>1.000000</td>\n",
       "    </tr>\n",
       "    <tr>\n",
       "      <th>25%</th>\n",
       "      <td>-19.244820</td>\n",
       "      <td>26.000000</td>\n",
       "    </tr>\n",
       "    <tr>\n",
       "      <th>50%</th>\n",
       "      <td>-1.711149</td>\n",
       "      <td>45.000000</td>\n",
       "    </tr>\n",
       "    <tr>\n",
       "      <th>75%</th>\n",
       "      <td>7.776392</td>\n",
       "      <td>99.000000</td>\n",
       "    </tr>\n",
       "    <tr>\n",
       "      <th>max</th>\n",
       "      <td>8735.140000</td>\n",
       "      <td>155.000000</td>\n",
       "    </tr>\n",
       "  </tbody>\n",
       "</table>\n",
       "</div>"
      ]
     },
     "metadata": {},
     "execution_count": 278
    }
   ],
   "metadata": {}
  },
  {
   "cell_type": "code",
   "execution_count": null,
   "source": [
    "transactionsDataFrame.sort_values(by=[\"tran_amt\",\"numberOfTransactions\"], ascending=[False,False])"
   ],
   "outputs": [
    {
     "output_type": "execute_result",
     "data": {
      "text/plain": [
       "                     tran_amt  numberOfTransactions\n",
       "acct_nbr                                           \n",
       "4561143213632370  8735.140000                     1\n",
       "4561143213626190  3905.040000                     1\n",
       "4561143213631460  2814.610000                     1\n",
       "4561143213631690  1749.600000                     1\n",
       "4561143213631330  1675.890000                     1\n",
       "...                       ...                   ...\n",
       "4561143213633110  -225.000000                    12\n",
       "4561143213629170  -261.538462                    26\n",
       "4561143213628320  -293.103448                    29\n",
       "4561143213625690  -328.571429                    28\n",
       "4561143213625620  -351.851852                    27\n",
       "\n",
       "[1398 rows x 2 columns]"
      ],
      "text/html": [
       "<div>\n",
       "<style scoped>\n",
       "    .dataframe tbody tr th:only-of-type {\n",
       "        vertical-align: middle;\n",
       "    }\n",
       "\n",
       "    .dataframe tbody tr th {\n",
       "        vertical-align: top;\n",
       "    }\n",
       "\n",
       "    .dataframe thead th {\n",
       "        text-align: right;\n",
       "    }\n",
       "</style>\n",
       "<table border=\"1\" class=\"dataframe\">\n",
       "  <thead>\n",
       "    <tr style=\"text-align: right;\">\n",
       "      <th></th>\n",
       "      <th>tran_amt</th>\n",
       "      <th>numberOfTransactions</th>\n",
       "    </tr>\n",
       "    <tr>\n",
       "      <th>acct_nbr</th>\n",
       "      <th></th>\n",
       "      <th></th>\n",
       "    </tr>\n",
       "  </thead>\n",
       "  <tbody>\n",
       "    <tr>\n",
       "      <th>4561143213632370</th>\n",
       "      <td>8735.140000</td>\n",
       "      <td>1</td>\n",
       "    </tr>\n",
       "    <tr>\n",
       "      <th>4561143213626190</th>\n",
       "      <td>3905.040000</td>\n",
       "      <td>1</td>\n",
       "    </tr>\n",
       "    <tr>\n",
       "      <th>4561143213631460</th>\n",
       "      <td>2814.610000</td>\n",
       "      <td>1</td>\n",
       "    </tr>\n",
       "    <tr>\n",
       "      <th>4561143213631690</th>\n",
       "      <td>1749.600000</td>\n",
       "      <td>1</td>\n",
       "    </tr>\n",
       "    <tr>\n",
       "      <th>4561143213631330</th>\n",
       "      <td>1675.890000</td>\n",
       "      <td>1</td>\n",
       "    </tr>\n",
       "    <tr>\n",
       "      <th>...</th>\n",
       "      <td>...</td>\n",
       "      <td>...</td>\n",
       "    </tr>\n",
       "    <tr>\n",
       "      <th>4561143213633110</th>\n",
       "      <td>-225.000000</td>\n",
       "      <td>12</td>\n",
       "    </tr>\n",
       "    <tr>\n",
       "      <th>4561143213629170</th>\n",
       "      <td>-261.538462</td>\n",
       "      <td>26</td>\n",
       "    </tr>\n",
       "    <tr>\n",
       "      <th>4561143213628320</th>\n",
       "      <td>-293.103448</td>\n",
       "      <td>29</td>\n",
       "    </tr>\n",
       "    <tr>\n",
       "      <th>4561143213625690</th>\n",
       "      <td>-328.571429</td>\n",
       "      <td>28</td>\n",
       "    </tr>\n",
       "    <tr>\n",
       "      <th>4561143213625620</th>\n",
       "      <td>-351.851852</td>\n",
       "      <td>27</td>\n",
       "    </tr>\n",
       "  </tbody>\n",
       "</table>\n",
       "<p>1398 rows × 2 columns</p>\n",
       "</div>"
      ]
     },
     "metadata": {},
     "execution_count": 279
    }
   ],
   "metadata": {}
  },
  {
   "cell_type": "code",
   "execution_count": null,
   "source": [
    "X = transactionsDataFrame[['tran_amt','numberOfTransactions']]"
   ],
   "outputs": [],
   "metadata": {}
  },
  {
   "cell_type": "code",
   "execution_count": null,
   "source": [
    "z_scores = np.abs(stats.zscore(X.values))"
   ],
   "outputs": [],
   "metadata": {}
  },
  {
   "cell_type": "code",
   "execution_count": null,
   "source": [
    "abs_z_scores = np.abs(z_scores)\r\n",
    "\r\n",
    "filtered_entries = (abs_z_scores < 3).all(axis=1)\r\n",
    "\r\n",
    "new_df = X[filtered_entries]"
   ],
   "outputs": [],
   "metadata": {}
  },
  {
   "cell_type": "code",
   "execution_count": null,
   "source": [
    "print(new_df.values)"
   ],
   "outputs": [
    {
     "output_type": "stream",
     "name": "stdout",
     "text": [
      "[[  27.         -351.85185185]\n",
      " [  28.         -328.57142857]\n",
      " [  29.         -293.10344828]\n",
      " ...\n",
      " [   6.          422.78666667]\n",
      " [  20.          440.        ]\n",
      " [   8.          563.9525    ]]\n"
     ]
    }
   ],
   "metadata": {}
  },
  {
   "cell_type": "code",
   "execution_count": null,
   "source": [
    "plt.scatter(transactionsDataFrame['tran_amt'],transactionsDataFrame['numberOfTransactions'],c='black')\r\n",
    "plt.xlabel('Average Transaction Amount')\r\n",
    "plt.ylabel('Number of Transactions this person has done')"
   ],
   "outputs": [
    {
     "output_type": "execute_result",
     "data": {
      "text/plain": [
       "Text(0, 0.5, 'Number of Transactions this person has done')"
      ]
     },
     "metadata": {},
     "execution_count": 201
    },
    {
     "output_type": "display_data",
     "data": {
      "text/plain": [
       "<Figure size 576x396 with 1 Axes>"
      ],
      "image/png": "[encoded data removed]"
     },
     "metadata": {}
    }
   ],
   "metadata": {}
  },
  {
   "cell_type": "code",
   "execution_count": null,
   "source": [
    "z_scores = sts.zscore(X.values)"
   ],
   "outputs": [],
   "metadata": {}
  },
  {
   "cell_type": "code",
   "execution_count": null,
   "source": [
    "z_scores"
   ],
   "outputs": [
    {
     "output_type": "execute_result",
     "data": {
      "text/plain": [
       "array([-1.30491471, -1.22156588, -1.09458302, ..., 10.03168713,\n",
       "       13.9356567 , 31.22843429])"
      ]
     },
     "metadata": {},
     "execution_count": 347
    }
   ],
   "metadata": {}
  },
  {
   "cell_type": "code",
   "execution_count": null,
   "source": [
    "new_df"
   ],
   "outputs": [
    {
     "output_type": "execute_result",
     "data": {
      "text/plain": [
       "                  numberOfTransactions    tran_amt\n",
       "acct_nbr                                          \n",
       "4561143213625620                    27 -351.851852\n",
       "4561143213625690                    28 -328.571429\n",
       "4561143213628320                    29 -293.103448\n",
       "4561143213629170                    26 -261.538462\n",
       "4561143213633110                    12 -225.000000\n",
       "...                                ...         ...\n",
       "4561143213629300                     3  343.176667\n",
       "4561143213629090                    12  345.994167\n",
       "4561143213628090                     6  422.786667\n",
       "1376137423                          20  440.000000\n",
       "4561143213626580                     8  563.952500\n",
       "\n",
       "[1393 rows x 2 columns]"
      ],
      "text/html": [
       "<div>\n",
       "<style scoped>\n",
       "    .dataframe tbody tr th:only-of-type {\n",
       "        vertical-align: middle;\n",
       "    }\n",
       "\n",
       "    .dataframe tbody tr th {\n",
       "        vertical-align: top;\n",
       "    }\n",
       "\n",
       "    .dataframe thead th {\n",
       "        text-align: right;\n",
       "    }\n",
       "</style>\n",
       "<table border=\"1\" class=\"dataframe\">\n",
       "  <thead>\n",
       "    <tr style=\"text-align: right;\">\n",
       "      <th></th>\n",
       "      <th>numberOfTransactions</th>\n",
       "      <th>tran_amt</th>\n",
       "    </tr>\n",
       "    <tr>\n",
       "      <th>acct_nbr</th>\n",
       "      <th></th>\n",
       "      <th></th>\n",
       "    </tr>\n",
       "  </thead>\n",
       "  <tbody>\n",
       "    <tr>\n",
       "      <th>4561143213625620</th>\n",
       "      <td>27</td>\n",
       "      <td>-351.851852</td>\n",
       "    </tr>\n",
       "    <tr>\n",
       "      <th>4561143213625690</th>\n",
       "      <td>28</td>\n",
       "      <td>-328.571429</td>\n",
       "    </tr>\n",
       "    <tr>\n",
       "      <th>4561143213628320</th>\n",
       "      <td>29</td>\n",
       "      <td>-293.103448</td>\n",
       "    </tr>\n",
       "    <tr>\n",
       "      <th>4561143213629170</th>\n",
       "      <td>26</td>\n",
       "      <td>-261.538462</td>\n",
       "    </tr>\n",
       "    <tr>\n",
       "      <th>4561143213633110</th>\n",
       "      <td>12</td>\n",
       "      <td>-225.000000</td>\n",
       "    </tr>\n",
       "    <tr>\n",
       "      <th>...</th>\n",
       "      <td>...</td>\n",
       "      <td>...</td>\n",
       "    </tr>\n",
       "    <tr>\n",
       "      <th>4561143213629300</th>\n",
       "      <td>3</td>\n",
       "      <td>343.176667</td>\n",
       "    </tr>\n",
       "    <tr>\n",
       "      <th>4561143213629090</th>\n",
       "      <td>12</td>\n",
       "      <td>345.994167</td>\n",
       "    </tr>\n",
       "    <tr>\n",
       "      <th>4561143213628090</th>\n",
       "      <td>6</td>\n",
       "      <td>422.786667</td>\n",
       "    </tr>\n",
       "    <tr>\n",
       "      <th>1376137423</th>\n",
       "      <td>20</td>\n",
       "      <td>440.000000</td>\n",
       "    </tr>\n",
       "    <tr>\n",
       "      <th>4561143213626580</th>\n",
       "      <td>8</td>\n",
       "      <td>563.952500</td>\n",
       "    </tr>\n",
       "  </tbody>\n",
       "</table>\n",
       "<p>1393 rows × 2 columns</p>\n",
       "</div>"
      ]
     },
     "metadata": {},
     "execution_count": 343
    }
   ],
   "metadata": {}
  },
  {
   "cell_type": "code",
   "execution_count": 397,
   "source": [
    "len(new_df)"
   ],
   "outputs": [
    {
     "output_type": "execute_result",
     "data": {
      "text/plain": [
       "1393"
      ]
     },
     "metadata": {},
     "execution_count": 397
    }
   ],
   "metadata": {}
  },
  {
   "cell_type": "code",
   "execution_count": 419,
   "source": [
    "plot_clusters(new_df.values,y_km,\"# of Transactions\",\"Amount per Transaction\",True)"
   ],
   "outputs": [
    {
     "output_type": "display_data",
     "data": {
      "text/plain": [
       "<Figure size 576x396 with 1 Axes>"
      ],
      "image/png": "[encoded data removed]"
     },
     "metadata": {}
    }
   ],
   "metadata": {}
  },
  {
   "cell_type": "code",
   "execution_count": 571,
   "source": [
    "new_df['kmean'].value_counts().sort_index()"
   ],
   "outputs": [
    {
     "output_type": "execute_result",
     "data": {
      "text/plain": [
       "0    517\n",
       "1    759\n",
       "2     54\n",
       "3     63\n",
       "Name: kmean, dtype: int64"
      ]
     },
     "metadata": {},
     "execution_count": 571
    }
   ],
   "metadata": {}
  },
  {
   "cell_type": "code",
   "execution_count": 398,
   "source": [],
   "outputs": [
    {
     "output_type": "execute_result",
     "data": {
      "text/plain": [
       "1393"
      ]
     },
     "metadata": {},
     "execution_count": 398
    }
   ],
   "metadata": {}
  },
  {
   "cell_type": "code",
   "execution_count": null,
   "source": [],
   "outputs": [],
   "metadata": {}
  },
  {
   "cell_type": "code",
   "execution_count": 417,
   "source": [
    "y_km = km.fit_predict(new_df)"
   ],
   "outputs": [],
   "metadata": {}
  },
  {
   "cell_type": "code",
   "execution_count": 418,
   "source": [
    "testModel = km.fit(new_df)\r\n",
    "new_df['kmean'] = testModel.labels_"
   ],
   "outputs": [
    {
     "output_type": "stream",
     "name": "stderr",
     "text": [
      "<ipython-input-418-2028499b9a0f>:2: SettingWithCopyWarning: \n",
      "A value is trying to be set on a copy of a slice from a DataFrame.\n",
      "Try using .loc[row_indexer,col_indexer] = value instead\n",
      "\n",
      "See the caveats in the documentation: https://pandas.pydata.org/pandas-docs/stable/user_guide/indexing.html#returning-a-view-versus-a-copy\n",
      "  new_df['kmean'] = testModel.labels_\n"
     ]
    }
   ],
   "metadata": {}
  },
  {
   "cell_type": "code",
   "execution_count": 391,
   "source": [
    " def plot_clusters(X,y_res,xLabel,yLabel, plt_cluster_centers = False):\r\n",
    "    X_centroids = []\r\n",
    "    Y_centroids = []\r\n",
    "\r\n",
    "    for cluster in set(y_res):\r\n",
    "        x = X[y_res == cluster,0]\r\n",
    "        y = X[y_res == cluster,1]\r\n",
    "        X_centroids.append(np.mean(x))\r\n",
    "        Y_centroids.append(np.mean(y))\r\n",
    "\r\n",
    "        plt.scatter(x,\r\n",
    "                    y,\r\n",
    "                    s=50,\r\n",
    "                    marker='s',\r\n",
    "                    label=f'cluster {cluster}')\r\n",
    "\r\n",
    "    if plt_cluster_centers:\r\n",
    "        plt.scatter(X_centroids,\r\n",
    "                    Y_centroids,\r\n",
    "                    marker='*',\r\n",
    "                    c='red',\r\n",
    "                    s=250,\r\n",
    "                    label='centroids')\r\n",
    "    plt.xlabel(xLabel)\r\n",
    "    plt.ylabel(yLabel)\r\n",
    "    plt.legend()\r\n",
    "    plt.grid()\r\n",
    "    plt.show()"
   ],
   "outputs": [],
   "metadata": {}
  },
  {
   "cell_type": "code",
   "execution_count": 297,
   "source": [
    "features = list(transactionsInformation.columns)[:-2]"
   ],
   "outputs": [],
   "metadata": {}
  },
  {
   "cell_type": "code",
   "execution_count": 298,
   "source": [
    "X = transactionsDataFrame[['numberOfTransactions','tran_amt']]"
   ],
   "outputs": [],
   "metadata": {}
  },
  {
   "cell_type": "code",
   "execution_count": 415,
   "source": [
    "km = KMeans(n_clusters=4,\r\n",
    "            n_init=10,\r\n",
    "            random_state=0)"
   ],
   "outputs": [],
   "metadata": {}
  },
  {
   "cell_type": "code",
   "execution_count": 211,
   "source": [],
   "outputs": [
    {
     "output_type": "execute_result",
     "data": {
      "text/plain": [
       "(1398, 4)"
      ]
     },
     "metadata": {},
     "execution_count": 211
    }
   ],
   "metadata": {}
  },
  {
   "cell_type": "code",
   "execution_count": 44,
   "source": [
    "def plot_distortions(X,max_clusters=10):\r\n",
    "    distortions = []\r\n",
    "    for i in range(1,max_clusters+1):\r\n",
    "        km = KMeans(n_clusters=i,init=\"k-means++\",n_init=10,random_state=0)\r\n",
    "        km.fit(X)\r\n",
    "        distortions.append(km.inertia_)\r\n",
    "    \r\n",
    "    plt.plot(range(1,max_clusters+1),distortions,marker='o')\r\n",
    "    plt.xlabel('Number of clusters')\r\n",
    "    plt.ylabel('Distortions')\r\n",
    "    plt.show()"
   ],
   "outputs": [],
   "metadata": {}
  },
  {
   "cell_type": "code",
   "execution_count": 231,
   "source": [
    "customerAge_Income = dfIncomeDroppedUnderAged[['age','income']]"
   ],
   "outputs": [],
   "metadata": {}
  },
  {
   "cell_type": "markdown",
   "source": [],
   "metadata": {}
  },
  {
   "cell_type": "code",
   "execution_count": 602,
   "source": [
    "plot_distortions(endingandAmountChanged,10)"
   ],
   "outputs": [
    {
     "output_type": "stream",
     "name": "stderr",
     "text": [
      "C:\\Users\\Jimmy\\anaconda3\\lib\\site-packages\\sklearn\\cluster\\_kmeans.py:881: UserWarning: KMeans is known to have a memory leak on Windows with MKL, when there are less chunks than available threads. You can avoid it by setting the environment variable OMP_NUM_THREADS=2.\n",
      "  warnings.warn(\n"
     ]
    },
    {
     "output_type": "display_data",
     "data": {
      "text/plain": [
       "<Figure size 576x396 with 1 Axes>"
      ],
      "image/png": "[encoded data removed]"
     },
     "metadata": {}
    }
   ],
   "metadata": {}
  },
  {
   "cell_type": "code",
   "execution_count": 47,
   "source": [
    "def plot_clusters(X,y_res,plt_cluster_centers=False):\r\n",
    "    X_centroids = []\r\n",
    "    Y_centroids = []\r\n",
    "\r\n",
    "\r\n",
    "    for cluster in set(y_res):\r\n",
    "        x = X[y_res == cluster,0]\r\n",
    "        y = X[y_res == cluster,1]\r\n",
    "        X_centroids.append(np.mean(x))\r\n",
    "        Y_centroids.append(np.mean(y))\r\n",
    "\r\n",
    "        plt.scatter(x,y,s=50,marker='s',label=f'cluster{cluster}')\r\n",
    "    \r\n",
    "    if plt_cluster_centers:\r\n",
    "        plt.scatter(X_centroids,Y_centroids,marker='*',c='red',s=250,label='centroids')\r\n",
    "\r\n",
    "    plt.legend()\r\n",
    "    plt.grid()\r\n",
    "    plt.show()\r\n"
   ],
   "outputs": [],
   "metadata": {}
  },
  {
   "cell_type": "code",
   "execution_count": 416,
   "source": [
    "km = KMeans(n_clusters=4, # how many clusters we expected \r\n",
    "            n_init=10, # how many initial runs\r\n",
    "            random_state=0)"
   ],
   "outputs": [],
   "metadata": {}
  },
  {
   "cell_type": "code",
   "execution_count": 50,
   "source": [
    "plt.style.use('seaborn')"
   ],
   "outputs": [],
   "metadata": {}
  },
  {
   "cell_type": "code",
   "execution_count": null,
   "source": [],
   "outputs": [],
   "metadata": {}
  },
  {
   "cell_type": "code",
   "execution_count": 51,
   "source": [
    "customerInformation.head()"
   ],
   "outputs": [
    {
     "output_type": "execute_result",
     "data": {
      "text/plain": [
       "     cust_id  income  age  years_with_bank  nbr_children gender  \\\n",
       "50   1362729       0   13                5             0     M    \n",
       "51   1362668       0   13                5             0     M    \n",
       "91   1362523       0   13                5             0     F    \n",
       "202  1362496       0   13                2             0     M    \n",
       "265  1363064       0   13                5             0     F    \n",
       "\n",
       "     marital_status name_prefix  \\\n",
       "50                1               \n",
       "51                1               \n",
       "91                1               \n",
       "202               1               \n",
       "265               1               \n",
       "\n",
       "                                            first_name  \\\n",
       "50   Bruce                                         ...   \n",
       "51   Chiman                                        ...   \n",
       "91   Julie                                         ...   \n",
       "202  Douglas                                       ...   \n",
       "265  Isabel                                        ...   \n",
       "\n",
       "                                             last_name  street_nbr  \\\n",
       "50   Kraus                                         ...        1223   \n",
       "51   Boyd                                          ...       16437   \n",
       "91   Morton                                        ...        8369   \n",
       "202  McMillen                                      ...        2968   \n",
       "265  Gold                                          ...        7879   \n",
       "\n",
       "                                           street_name  postal_code  \\\n",
       "50   Vine                                          ...        10104   \n",
       "51   37th                                          ...        90750   \n",
       "91   Madison                                       ...        90061   \n",
       "202  Leek                                          ...        77058   \n",
       "265  Third                                         ...        14622   \n",
       "\n",
       "                                    city_name state_code  \n",
       "50   New York City                                  NY    \n",
       "51   Long Beach                                     CA    \n",
       "91   Los Angeles                                    CA    \n",
       "202  Houston                                        TX    \n",
       "265  Rochester                                      NY    "
      ],
      "text/html": [
       "<div>\n",
       "<style scoped>\n",
       "    .dataframe tbody tr th:only-of-type {\n",
       "        vertical-align: middle;\n",
       "    }\n",
       "\n",
       "    .dataframe tbody tr th {\n",
       "        vertical-align: top;\n",
       "    }\n",
       "\n",
       "    .dataframe thead th {\n",
       "        text-align: right;\n",
       "    }\n",
       "</style>\n",
       "<table border=\"1\" class=\"dataframe\">\n",
       "  <thead>\n",
       "    <tr style=\"text-align: right;\">\n",
       "      <th></th>\n",
       "      <th>cust_id</th>\n",
       "      <th>income</th>\n",
       "      <th>age</th>\n",
       "      <th>years_with_bank</th>\n",
       "      <th>nbr_children</th>\n",
       "      <th>gender</th>\n",
       "      <th>marital_status</th>\n",
       "      <th>name_prefix</th>\n",
       "      <th>first_name</th>\n",
       "      <th>last_name</th>\n",
       "      <th>street_nbr</th>\n",
       "      <th>street_name</th>\n",
       "      <th>postal_code</th>\n",
       "      <th>city_name</th>\n",
       "      <th>state_code</th>\n",
       "    </tr>\n",
       "  </thead>\n",
       "  <tbody>\n",
       "    <tr>\n",
       "      <th>50</th>\n",
       "      <td>1362729</td>\n",
       "      <td>0</td>\n",
       "      <td>13</td>\n",
       "      <td>5</td>\n",
       "      <td>0</td>\n",
       "      <td>M</td>\n",
       "      <td>1</td>\n",
       "      <td></td>\n",
       "      <td>Bruce                                         ...</td>\n",
       "      <td>Kraus                                         ...</td>\n",
       "      <td>1223</td>\n",
       "      <td>Vine                                          ...</td>\n",
       "      <td>10104</td>\n",
       "      <td>New York City</td>\n",
       "      <td>NY</td>\n",
       "    </tr>\n",
       "    <tr>\n",
       "      <th>51</th>\n",
       "      <td>1362668</td>\n",
       "      <td>0</td>\n",
       "      <td>13</td>\n",
       "      <td>5</td>\n",
       "      <td>0</td>\n",
       "      <td>M</td>\n",
       "      <td>1</td>\n",
       "      <td></td>\n",
       "      <td>Chiman                                        ...</td>\n",
       "      <td>Boyd                                          ...</td>\n",
       "      <td>16437</td>\n",
       "      <td>37th                                          ...</td>\n",
       "      <td>90750</td>\n",
       "      <td>Long Beach</td>\n",
       "      <td>CA</td>\n",
       "    </tr>\n",
       "    <tr>\n",
       "      <th>91</th>\n",
       "      <td>1362523</td>\n",
       "      <td>0</td>\n",
       "      <td>13</td>\n",
       "      <td>5</td>\n",
       "      <td>0</td>\n",
       "      <td>F</td>\n",
       "      <td>1</td>\n",
       "      <td></td>\n",
       "      <td>Julie                                         ...</td>\n",
       "      <td>Morton                                        ...</td>\n",
       "      <td>8369</td>\n",
       "      <td>Madison                                       ...</td>\n",
       "      <td>90061</td>\n",
       "      <td>Los Angeles</td>\n",
       "      <td>CA</td>\n",
       "    </tr>\n",
       "    <tr>\n",
       "      <th>202</th>\n",
       "      <td>1362496</td>\n",
       "      <td>0</td>\n",
       "      <td>13</td>\n",
       "      <td>2</td>\n",
       "      <td>0</td>\n",
       "      <td>M</td>\n",
       "      <td>1</td>\n",
       "      <td></td>\n",
       "      <td>Douglas                                       ...</td>\n",
       "      <td>McMillen                                      ...</td>\n",
       "      <td>2968</td>\n",
       "      <td>Leek                                          ...</td>\n",
       "      <td>77058</td>\n",
       "      <td>Houston</td>\n",
       "      <td>TX</td>\n",
       "    </tr>\n",
       "    <tr>\n",
       "      <th>265</th>\n",
       "      <td>1363064</td>\n",
       "      <td>0</td>\n",
       "      <td>13</td>\n",
       "      <td>5</td>\n",
       "      <td>0</td>\n",
       "      <td>F</td>\n",
       "      <td>1</td>\n",
       "      <td></td>\n",
       "      <td>Isabel                                        ...</td>\n",
       "      <td>Gold                                          ...</td>\n",
       "      <td>7879</td>\n",
       "      <td>Third                                         ...</td>\n",
       "      <td>14622</td>\n",
       "      <td>Rochester</td>\n",
       "      <td>NY</td>\n",
       "    </tr>\n",
       "  </tbody>\n",
       "</table>\n",
       "</div>"
      ]
     },
     "metadata": {},
     "execution_count": 51
    }
   ],
   "metadata": {}
  },
  {
   "cell_type": "code",
   "execution_count": 52,
   "source": [
    "customerInformation = customerInformation.sort_values(by=['age','income'])"
   ],
   "outputs": [],
   "metadata": {}
  },
  {
   "cell_type": "code",
   "execution_count": 126,
   "source": [
    "plt.bar(dfIncomeDroppedUnderAged['age'],dfIncomeDroppedUnderAged['income'])"
   ],
   "outputs": [
    {
     "output_type": "execute_result",
     "data": {
      "text/plain": [
       "<BarContainer object of 666 artists>"
      ]
     },
     "metadata": {},
     "execution_count": 126
    },
    {
     "output_type": "display_data",
     "data": {
      "text/plain": [
       "<Figure size 576x396 with 1 Axes>"
      ],
      "image/png": "[encoded data removed]"
     },
     "metadata": {}
    }
   ],
   "metadata": {}
  },
  {
   "cell_type": "code",
   "execution_count": 54,
   "source": [
    "plt.scatter(customerInformation['age'],customerInformation['income'],c='black')"
   ],
   "outputs": [
    {
     "output_type": "execute_result",
     "data": {
      "text/plain": [
       "<matplotlib.collections.PathCollection at 0x1ca1b802400>"
      ]
     },
     "metadata": {},
     "execution_count": 54
    },
    {
     "output_type": "display_data",
     "data": {
      "text/plain": [
       "<Figure size 576x396 with 1 Axes>"
      ],
      "image/png": "[encoded data removed]"
     },
     "metadata": {}
    }
   ],
   "metadata": {}
  },
  {
   "cell_type": "code",
   "execution_count": 55,
   "source": [
    "plt.bar(customerInformation['age'],customerInformation['income'])"
   ],
   "outputs": [
    {
     "output_type": "execute_result",
     "data": {
      "text/plain": [
       "<BarContainer object of 747 artists>"
      ]
     },
     "metadata": {},
     "execution_count": 55
    },
    {
     "output_type": "display_data",
     "data": {
      "text/plain": [
       "<Figure size 576x396 with 1 Axes>"
      ],
      "image/png": "[encoded data removed]"
     },
     "metadata": {}
    }
   ],
   "metadata": {}
  },
  {
   "cell_type": "code",
   "execution_count": 56,
   "source": [
    "accountCustomerInformation = customerInformation.merge(accountInformation,on=\"cust_id\")"
   ],
   "outputs": [],
   "metadata": {}
  },
  {
   "cell_type": "code",
   "execution_count": 57,
   "source": [
    "accountCustomerInformation.head()"
   ],
   "outputs": [
    {
     "output_type": "execute_result",
     "data": {
      "text/plain": [
       "   cust_id  income  age  years_with_bank  nbr_children gender  marital_status  \\\n",
       "0  1362729       0   13                5             0     M                1   \n",
       "1  1362668       0   13                5             0     M                1   \n",
       "2  1362523       0   13                5             0     F                1   \n",
       "3  1362496       0   13                2             0     M                1   \n",
       "4  1363064       0   13                5             0     F                1   \n",
       "\n",
       "  name_prefix                                         first_name  \\\n",
       "0              Bruce                                         ...   \n",
       "1              Chiman                                        ...   \n",
       "2              Julie                                         ...   \n",
       "3              Douglas                                       ...   \n",
       "4              Isabel                                        ...   \n",
       "\n",
       "                                           last_name  ...  postal_code  \\\n",
       "0  Kraus                                         ...  ...        10104   \n",
       "1  Boyd                                          ...  ...        90750   \n",
       "2  Morton                                        ...  ...        90061   \n",
       "3  McMillen                                      ...  ...        77058   \n",
       "4  Gold                                          ...  ...        14622   \n",
       "\n",
       "                                  city_name  state_code  acct_nbr acct_type  \\\n",
       "0  New York City                                   NY    13627293      SV     \n",
       "1  Long Beach                                      CA    13626683      SV     \n",
       "2  Los Angeles                                     CA    13625233      SV     \n",
       "3  Houston                                         TX    13624963      SV     \n",
       "4  Rochester                                       NY    13630643      SV     \n",
       "\n",
       "   account_active acct_start_date acct_end_date starting_balance  \\\n",
       "0              Y        21.4.1993           NaN           120.41   \n",
       "1              Y       29.11.1990           NaN           213.91   \n",
       "2              Y        26.6.1992           NaN           262.21   \n",
       "3              Y        7.12.1994           NaN           247.34   \n",
       "4              Y         9.6.1995           NaN           220.97   \n",
       "\n",
       "  ending_balance  \n",
       "0         122.21  \n",
       "1        1470.67  \n",
       "2         127.38  \n",
       "3         251.06  \n",
       "4        1103.03  \n",
       "\n",
       "[5 rows x 22 columns]"
      ],
      "text/html": [
       "<div>\n",
       "<style scoped>\n",
       "    .dataframe tbody tr th:only-of-type {\n",
       "        vertical-align: middle;\n",
       "    }\n",
       "\n",
       "    .dataframe tbody tr th {\n",
       "        vertical-align: top;\n",
       "    }\n",
       "\n",
       "    .dataframe thead th {\n",
       "        text-align: right;\n",
       "    }\n",
       "</style>\n",
       "<table border=\"1\" class=\"dataframe\">\n",
       "  <thead>\n",
       "    <tr style=\"text-align: right;\">\n",
       "      <th></th>\n",
       "      <th>cust_id</th>\n",
       "      <th>income</th>\n",
       "      <th>age</th>\n",
       "      <th>years_with_bank</th>\n",
       "      <th>nbr_children</th>\n",
       "      <th>gender</th>\n",
       "      <th>marital_status</th>\n",
       "      <th>name_prefix</th>\n",
       "      <th>first_name</th>\n",
       "      <th>last_name</th>\n",
       "      <th>...</th>\n",
       "      <th>postal_code</th>\n",
       "      <th>city_name</th>\n",
       "      <th>state_code</th>\n",
       "      <th>acct_nbr</th>\n",
       "      <th>acct_type</th>\n",
       "      <th>account_active</th>\n",
       "      <th>acct_start_date</th>\n",
       "      <th>acct_end_date</th>\n",
       "      <th>starting_balance</th>\n",
       "      <th>ending_balance</th>\n",
       "    </tr>\n",
       "  </thead>\n",
       "  <tbody>\n",
       "    <tr>\n",
       "      <th>0</th>\n",
       "      <td>1362729</td>\n",
       "      <td>0</td>\n",
       "      <td>13</td>\n",
       "      <td>5</td>\n",
       "      <td>0</td>\n",
       "      <td>M</td>\n",
       "      <td>1</td>\n",
       "      <td></td>\n",
       "      <td>Bruce                                         ...</td>\n",
       "      <td>Kraus                                         ...</td>\n",
       "      <td>...</td>\n",
       "      <td>10104</td>\n",
       "      <td>New York City</td>\n",
       "      <td>NY</td>\n",
       "      <td>13627293</td>\n",
       "      <td>SV</td>\n",
       "      <td>Y</td>\n",
       "      <td>21.4.1993</td>\n",
       "      <td>NaN</td>\n",
       "      <td>120.41</td>\n",
       "      <td>122.21</td>\n",
       "    </tr>\n",
       "    <tr>\n",
       "      <th>1</th>\n",
       "      <td>1362668</td>\n",
       "      <td>0</td>\n",
       "      <td>13</td>\n",
       "      <td>5</td>\n",
       "      <td>0</td>\n",
       "      <td>M</td>\n",
       "      <td>1</td>\n",
       "      <td></td>\n",
       "      <td>Chiman                                        ...</td>\n",
       "      <td>Boyd                                          ...</td>\n",
       "      <td>...</td>\n",
       "      <td>90750</td>\n",
       "      <td>Long Beach</td>\n",
       "      <td>CA</td>\n",
       "      <td>13626683</td>\n",
       "      <td>SV</td>\n",
       "      <td>Y</td>\n",
       "      <td>29.11.1990</td>\n",
       "      <td>NaN</td>\n",
       "      <td>213.91</td>\n",
       "      <td>1470.67</td>\n",
       "    </tr>\n",
       "    <tr>\n",
       "      <th>2</th>\n",
       "      <td>1362523</td>\n",
       "      <td>0</td>\n",
       "      <td>13</td>\n",
       "      <td>5</td>\n",
       "      <td>0</td>\n",
       "      <td>F</td>\n",
       "      <td>1</td>\n",
       "      <td></td>\n",
       "      <td>Julie                                         ...</td>\n",
       "      <td>Morton                                        ...</td>\n",
       "      <td>...</td>\n",
       "      <td>90061</td>\n",
       "      <td>Los Angeles</td>\n",
       "      <td>CA</td>\n",
       "      <td>13625233</td>\n",
       "      <td>SV</td>\n",
       "      <td>Y</td>\n",
       "      <td>26.6.1992</td>\n",
       "      <td>NaN</td>\n",
       "      <td>262.21</td>\n",
       "      <td>127.38</td>\n",
       "    </tr>\n",
       "    <tr>\n",
       "      <th>3</th>\n",
       "      <td>1362496</td>\n",
       "      <td>0</td>\n",
       "      <td>13</td>\n",
       "      <td>2</td>\n",
       "      <td>0</td>\n",
       "      <td>M</td>\n",
       "      <td>1</td>\n",
       "      <td></td>\n",
       "      <td>Douglas                                       ...</td>\n",
       "      <td>McMillen                                      ...</td>\n",
       "      <td>...</td>\n",
       "      <td>77058</td>\n",
       "      <td>Houston</td>\n",
       "      <td>TX</td>\n",
       "      <td>13624963</td>\n",
       "      <td>SV</td>\n",
       "      <td>Y</td>\n",
       "      <td>7.12.1994</td>\n",
       "      <td>NaN</td>\n",
       "      <td>247.34</td>\n",
       "      <td>251.06</td>\n",
       "    </tr>\n",
       "    <tr>\n",
       "      <th>4</th>\n",
       "      <td>1363064</td>\n",
       "      <td>0</td>\n",
       "      <td>13</td>\n",
       "      <td>5</td>\n",
       "      <td>0</td>\n",
       "      <td>F</td>\n",
       "      <td>1</td>\n",
       "      <td></td>\n",
       "      <td>Isabel                                        ...</td>\n",
       "      <td>Gold                                          ...</td>\n",
       "      <td>...</td>\n",
       "      <td>14622</td>\n",
       "      <td>Rochester</td>\n",
       "      <td>NY</td>\n",
       "      <td>13630643</td>\n",
       "      <td>SV</td>\n",
       "      <td>Y</td>\n",
       "      <td>9.6.1995</td>\n",
       "      <td>NaN</td>\n",
       "      <td>220.97</td>\n",
       "      <td>1103.03</td>\n",
       "    </tr>\n",
       "  </tbody>\n",
       "</table>\n",
       "<p>5 rows × 22 columns</p>\n",
       "</div>"
      ]
     },
     "metadata": {},
     "execution_count": 57
    }
   ],
   "metadata": {}
  },
  {
   "cell_type": "code",
   "execution_count": null,
   "source": [],
   "outputs": [],
   "metadata": {}
  },
  {
   "cell_type": "code",
   "execution_count": 58,
   "source": [
    "accountCustomerInformation.head()"
   ],
   "outputs": [
    {
     "output_type": "execute_result",
     "data": {
      "text/plain": [
       "   cust_id  income  age  years_with_bank  nbr_children gender  marital_status  \\\n",
       "0  1362729       0   13                5             0     M                1   \n",
       "1  1362668       0   13                5             0     M                1   \n",
       "2  1362523       0   13                5             0     F                1   \n",
       "3  1362496       0   13                2             0     M                1   \n",
       "4  1363064       0   13                5             0     F                1   \n",
       "\n",
       "  name_prefix                                         first_name  \\\n",
       "0              Bruce                                         ...   \n",
       "1              Chiman                                        ...   \n",
       "2              Julie                                         ...   \n",
       "3              Douglas                                       ...   \n",
       "4              Isabel                                        ...   \n",
       "\n",
       "                                           last_name  ...  postal_code  \\\n",
       "0  Kraus                                         ...  ...        10104   \n",
       "1  Boyd                                          ...  ...        90750   \n",
       "2  Morton                                        ...  ...        90061   \n",
       "3  McMillen                                      ...  ...        77058   \n",
       "4  Gold                                          ...  ...        14622   \n",
       "\n",
       "                                  city_name  state_code  acct_nbr acct_type  \\\n",
       "0  New York City                                   NY    13627293      SV     \n",
       "1  Long Beach                                      CA    13626683      SV     \n",
       "2  Los Angeles                                     CA    13625233      SV     \n",
       "3  Houston                                         TX    13624963      SV     \n",
       "4  Rochester                                       NY    13630643      SV     \n",
       "\n",
       "   account_active acct_start_date acct_end_date starting_balance  \\\n",
       "0              Y        21.4.1993           NaN           120.41   \n",
       "1              Y       29.11.1990           NaN           213.91   \n",
       "2              Y        26.6.1992           NaN           262.21   \n",
       "3              Y        7.12.1994           NaN           247.34   \n",
       "4              Y         9.6.1995           NaN           220.97   \n",
       "\n",
       "  ending_balance  \n",
       "0         122.21  \n",
       "1        1470.67  \n",
       "2         127.38  \n",
       "3         251.06  \n",
       "4        1103.03  \n",
       "\n",
       "[5 rows x 22 columns]"
      ],
      "text/html": [
       "<div>\n",
       "<style scoped>\n",
       "    .dataframe tbody tr th:only-of-type {\n",
       "        vertical-align: middle;\n",
       "    }\n",
       "\n",
       "    .dataframe tbody tr th {\n",
       "        vertical-align: top;\n",
       "    }\n",
       "\n",
       "    .dataframe thead th {\n",
       "        text-align: right;\n",
       "    }\n",
       "</style>\n",
       "<table border=\"1\" class=\"dataframe\">\n",
       "  <thead>\n",
       "    <tr style=\"text-align: right;\">\n",
       "      <th></th>\n",
       "      <th>cust_id</th>\n",
       "      <th>income</th>\n",
       "      <th>age</th>\n",
       "      <th>years_with_bank</th>\n",
       "      <th>nbr_children</th>\n",
       "      <th>gender</th>\n",
       "      <th>marital_status</th>\n",
       "      <th>name_prefix</th>\n",
       "      <th>first_name</th>\n",
       "      <th>last_name</th>\n",
       "      <th>...</th>\n",
       "      <th>postal_code</th>\n",
       "      <th>city_name</th>\n",
       "      <th>state_code</th>\n",
       "      <th>acct_nbr</th>\n",
       "      <th>acct_type</th>\n",
       "      <th>account_active</th>\n",
       "      <th>acct_start_date</th>\n",
       "      <th>acct_end_date</th>\n",
       "      <th>starting_balance</th>\n",
       "      <th>ending_balance</th>\n",
       "    </tr>\n",
       "  </thead>\n",
       "  <tbody>\n",
       "    <tr>\n",
       "      <th>0</th>\n",
       "      <td>1362729</td>\n",
       "      <td>0</td>\n",
       "      <td>13</td>\n",
       "      <td>5</td>\n",
       "      <td>0</td>\n",
       "      <td>M</td>\n",
       "      <td>1</td>\n",
       "      <td></td>\n",
       "      <td>Bruce                                         ...</td>\n",
       "      <td>Kraus                                         ...</td>\n",
       "      <td>...</td>\n",
       "      <td>10104</td>\n",
       "      <td>New York City</td>\n",
       "      <td>NY</td>\n",
       "      <td>13627293</td>\n",
       "      <td>SV</td>\n",
       "      <td>Y</td>\n",
       "      <td>21.4.1993</td>\n",
       "      <td>NaN</td>\n",
       "      <td>120.41</td>\n",
       "      <td>122.21</td>\n",
       "    </tr>\n",
       "    <tr>\n",
       "      <th>1</th>\n",
       "      <td>1362668</td>\n",
       "      <td>0</td>\n",
       "      <td>13</td>\n",
       "      <td>5</td>\n",
       "      <td>0</td>\n",
       "      <td>M</td>\n",
       "      <td>1</td>\n",
       "      <td></td>\n",
       "      <td>Chiman                                        ...</td>\n",
       "      <td>Boyd                                          ...</td>\n",
       "      <td>...</td>\n",
       "      <td>90750</td>\n",
       "      <td>Long Beach</td>\n",
       "      <td>CA</td>\n",
       "      <td>13626683</td>\n",
       "      <td>SV</td>\n",
       "      <td>Y</td>\n",
       "      <td>29.11.1990</td>\n",
       "      <td>NaN</td>\n",
       "      <td>213.91</td>\n",
       "      <td>1470.67</td>\n",
       "    </tr>\n",
       "    <tr>\n",
       "      <th>2</th>\n",
       "      <td>1362523</td>\n",
       "      <td>0</td>\n",
       "      <td>13</td>\n",
       "      <td>5</td>\n",
       "      <td>0</td>\n",
       "      <td>F</td>\n",
       "      <td>1</td>\n",
       "      <td></td>\n",
       "      <td>Julie                                         ...</td>\n",
       "      <td>Morton                                        ...</td>\n",
       "      <td>...</td>\n",
       "      <td>90061</td>\n",
       "      <td>Los Angeles</td>\n",
       "      <td>CA</td>\n",
       "      <td>13625233</td>\n",
       "      <td>SV</td>\n",
       "      <td>Y</td>\n",
       "      <td>26.6.1992</td>\n",
       "      <td>NaN</td>\n",
       "      <td>262.21</td>\n",
       "      <td>127.38</td>\n",
       "    </tr>\n",
       "    <tr>\n",
       "      <th>3</th>\n",
       "      <td>1362496</td>\n",
       "      <td>0</td>\n",
       "      <td>13</td>\n",
       "      <td>2</td>\n",
       "      <td>0</td>\n",
       "      <td>M</td>\n",
       "      <td>1</td>\n",
       "      <td></td>\n",
       "      <td>Douglas                                       ...</td>\n",
       "      <td>McMillen                                      ...</td>\n",
       "      <td>...</td>\n",
       "      <td>77058</td>\n",
       "      <td>Houston</td>\n",
       "      <td>TX</td>\n",
       "      <td>13624963</td>\n",
       "      <td>SV</td>\n",
       "      <td>Y</td>\n",
       "      <td>7.12.1994</td>\n",
       "      <td>NaN</td>\n",
       "      <td>247.34</td>\n",
       "      <td>251.06</td>\n",
       "    </tr>\n",
       "    <tr>\n",
       "      <th>4</th>\n",
       "      <td>1363064</td>\n",
       "      <td>0</td>\n",
       "      <td>13</td>\n",
       "      <td>5</td>\n",
       "      <td>0</td>\n",
       "      <td>F</td>\n",
       "      <td>1</td>\n",
       "      <td></td>\n",
       "      <td>Isabel                                        ...</td>\n",
       "      <td>Gold                                          ...</td>\n",
       "      <td>...</td>\n",
       "      <td>14622</td>\n",
       "      <td>Rochester</td>\n",
       "      <td>NY</td>\n",
       "      <td>13630643</td>\n",
       "      <td>SV</td>\n",
       "      <td>Y</td>\n",
       "      <td>9.6.1995</td>\n",
       "      <td>NaN</td>\n",
       "      <td>220.97</td>\n",
       "      <td>1103.03</td>\n",
       "    </tr>\n",
       "  </tbody>\n",
       "</table>\n",
       "<p>5 rows × 22 columns</p>\n",
       "</div>"
      ]
     },
     "metadata": {},
     "execution_count": 58
    }
   ],
   "metadata": {}
  },
  {
   "cell_type": "code",
   "execution_count": 59,
   "source": [
    "accountInformation.head()"
   ],
   "outputs": [
    {
     "output_type": "execute_result",
     "data": {
      "text/plain": [
       "           acct_nbr  cust_id acct_type account_active acct_start_date  \\\n",
       "0          13628063  1362806      SV               Y       10.12.1995   \n",
       "1  4561143213627090  1362709      CC               Y        15.3.1993   \n",
       "2  4561143213628360  1362836      CC               Y        18.3.1992   \n",
       "3          13633112  1363311      CK               Y         6.7.1995   \n",
       "4  4561143213633610  1363361      CC               Y        17.6.1994   \n",
       "\n",
       "  acct_end_date  starting_balance  ending_balance  \n",
       "0           NaN           1430.22          284.58  \n",
       "1           NaN            266.34          496.15  \n",
       "2           NaN             55.90         1000.00  \n",
       "3           NaN          11017.13          968.46  \n",
       "4           NaN            849.37          462.28  "
      ],
      "text/html": [
       "<div>\n",
       "<style scoped>\n",
       "    .dataframe tbody tr th:only-of-type {\n",
       "        vertical-align: middle;\n",
       "    }\n",
       "\n",
       "    .dataframe tbody tr th {\n",
       "        vertical-align: top;\n",
       "    }\n",
       "\n",
       "    .dataframe thead th {\n",
       "        text-align: right;\n",
       "    }\n",
       "</style>\n",
       "<table border=\"1\" class=\"dataframe\">\n",
       "  <thead>\n",
       "    <tr style=\"text-align: right;\">\n",
       "      <th></th>\n",
       "      <th>acct_nbr</th>\n",
       "      <th>cust_id</th>\n",
       "      <th>acct_type</th>\n",
       "      <th>account_active</th>\n",
       "      <th>acct_start_date</th>\n",
       "      <th>acct_end_date</th>\n",
       "      <th>starting_balance</th>\n",
       "      <th>ending_balance</th>\n",
       "    </tr>\n",
       "  </thead>\n",
       "  <tbody>\n",
       "    <tr>\n",
       "      <th>0</th>\n",
       "      <td>13628063</td>\n",
       "      <td>1362806</td>\n",
       "      <td>SV</td>\n",
       "      <td>Y</td>\n",
       "      <td>10.12.1995</td>\n",
       "      <td>NaN</td>\n",
       "      <td>1430.22</td>\n",
       "      <td>284.58</td>\n",
       "    </tr>\n",
       "    <tr>\n",
       "      <th>1</th>\n",
       "      <td>4561143213627090</td>\n",
       "      <td>1362709</td>\n",
       "      <td>CC</td>\n",
       "      <td>Y</td>\n",
       "      <td>15.3.1993</td>\n",
       "      <td>NaN</td>\n",
       "      <td>266.34</td>\n",
       "      <td>496.15</td>\n",
       "    </tr>\n",
       "    <tr>\n",
       "      <th>2</th>\n",
       "      <td>4561143213628360</td>\n",
       "      <td>1362836</td>\n",
       "      <td>CC</td>\n",
       "      <td>Y</td>\n",
       "      <td>18.3.1992</td>\n",
       "      <td>NaN</td>\n",
       "      <td>55.90</td>\n",
       "      <td>1000.00</td>\n",
       "    </tr>\n",
       "    <tr>\n",
       "      <th>3</th>\n",
       "      <td>13633112</td>\n",
       "      <td>1363311</td>\n",
       "      <td>CK</td>\n",
       "      <td>Y</td>\n",
       "      <td>6.7.1995</td>\n",
       "      <td>NaN</td>\n",
       "      <td>11017.13</td>\n",
       "      <td>968.46</td>\n",
       "    </tr>\n",
       "    <tr>\n",
       "      <th>4</th>\n",
       "      <td>4561143213633610</td>\n",
       "      <td>1363361</td>\n",
       "      <td>CC</td>\n",
       "      <td>Y</td>\n",
       "      <td>17.6.1994</td>\n",
       "      <td>NaN</td>\n",
       "      <td>849.37</td>\n",
       "      <td>462.28</td>\n",
       "    </tr>\n",
       "  </tbody>\n",
       "</table>\n",
       "</div>"
      ]
     },
     "metadata": {},
     "execution_count": 59
    }
   ],
   "metadata": {}
  },
  {
   "cell_type": "code",
   "execution_count": 60,
   "source": [
    "accountInformation"
   ],
   "outputs": [
    {
     "output_type": "execute_result",
     "data": {
      "text/plain": [
       "              acct_nbr  cust_id acct_type account_active acct_start_date  \\\n",
       "0             13628063  1362806      SV               Y       10.12.1995   \n",
       "1     4561143213627090  1362709      CC               Y        15.3.1993   \n",
       "2     4561143213628360  1362836      CC               Y        18.3.1992   \n",
       "3             13633112  1363311      CK               Y         6.7.1995   \n",
       "4     4561143213633610  1363361      CC               Y        17.6.1994   \n",
       "...                ...      ...       ...            ...             ...   \n",
       "1404  4561143213625560  1362556      CC               N        20.1.1992   \n",
       "1405  4561143213626240  1362624      CC               Y       29.11.1990   \n",
       "1406  4561143213628750  1362875      CC               Y        24.2.1989   \n",
       "1407          13626543  1362654      SV               Y       17.10.1992   \n",
       "1408          13627032  1362703      CK               Y        18.9.1994   \n",
       "\n",
       "     acct_end_date  starting_balance  ending_balance  \n",
       "0              NaN           1430.22          284.58  \n",
       "1              NaN            266.34          496.15  \n",
       "2              NaN             55.90         1000.00  \n",
       "3              NaN          11017.13          968.46  \n",
       "4              NaN            849.37          462.28  \n",
       "...            ...               ...             ...  \n",
       "1404     19.8.1995           1433.94           20.00  \n",
       "1405           NaN            632.75         1400.00  \n",
       "1406           NaN           2810.91         3000.00  \n",
       "1407           NaN            784.53          622.46  \n",
       "1408           NaN           3649.18          107.33  \n",
       "\n",
       "[1409 rows x 8 columns]"
      ],
      "text/html": [
       "<div>\n",
       "<style scoped>\n",
       "    .dataframe tbody tr th:only-of-type {\n",
       "        vertical-align: middle;\n",
       "    }\n",
       "\n",
       "    .dataframe tbody tr th {\n",
       "        vertical-align: top;\n",
       "    }\n",
       "\n",
       "    .dataframe thead th {\n",
       "        text-align: right;\n",
       "    }\n",
       "</style>\n",
       "<table border=\"1\" class=\"dataframe\">\n",
       "  <thead>\n",
       "    <tr style=\"text-align: right;\">\n",
       "      <th></th>\n",
       "      <th>acct_nbr</th>\n",
       "      <th>cust_id</th>\n",
       "      <th>acct_type</th>\n",
       "      <th>account_active</th>\n",
       "      <th>acct_start_date</th>\n",
       "      <th>acct_end_date</th>\n",
       "      <th>starting_balance</th>\n",
       "      <th>ending_balance</th>\n",
       "    </tr>\n",
       "  </thead>\n",
       "  <tbody>\n",
       "    <tr>\n",
       "      <th>0</th>\n",
       "      <td>13628063</td>\n",
       "      <td>1362806</td>\n",
       "      <td>SV</td>\n",
       "      <td>Y</td>\n",
       "      <td>10.12.1995</td>\n",
       "      <td>NaN</td>\n",
       "      <td>1430.22</td>\n",
       "      <td>284.58</td>\n",
       "    </tr>\n",
       "    <tr>\n",
       "      <th>1</th>\n",
       "      <td>4561143213627090</td>\n",
       "      <td>1362709</td>\n",
       "      <td>CC</td>\n",
       "      <td>Y</td>\n",
       "      <td>15.3.1993</td>\n",
       "      <td>NaN</td>\n",
       "      <td>266.34</td>\n",
       "      <td>496.15</td>\n",
       "    </tr>\n",
       "    <tr>\n",
       "      <th>2</th>\n",
       "      <td>4561143213628360</td>\n",
       "      <td>1362836</td>\n",
       "      <td>CC</td>\n",
       "      <td>Y</td>\n",
       "      <td>18.3.1992</td>\n",
       "      <td>NaN</td>\n",
       "      <td>55.90</td>\n",
       "      <td>1000.00</td>\n",
       "    </tr>\n",
       "    <tr>\n",
       "      <th>3</th>\n",
       "      <td>13633112</td>\n",
       "      <td>1363311</td>\n",
       "      <td>CK</td>\n",
       "      <td>Y</td>\n",
       "      <td>6.7.1995</td>\n",
       "      <td>NaN</td>\n",
       "      <td>11017.13</td>\n",
       "      <td>968.46</td>\n",
       "    </tr>\n",
       "    <tr>\n",
       "      <th>4</th>\n",
       "      <td>4561143213633610</td>\n",
       "      <td>1363361</td>\n",
       "      <td>CC</td>\n",
       "      <td>Y</td>\n",
       "      <td>17.6.1994</td>\n",
       "      <td>NaN</td>\n",
       "      <td>849.37</td>\n",
       "      <td>462.28</td>\n",
       "    </tr>\n",
       "    <tr>\n",
       "      <th>...</th>\n",
       "      <td>...</td>\n",
       "      <td>...</td>\n",
       "      <td>...</td>\n",
       "      <td>...</td>\n",
       "      <td>...</td>\n",
       "      <td>...</td>\n",
       "      <td>...</td>\n",
       "      <td>...</td>\n",
       "    </tr>\n",
       "    <tr>\n",
       "      <th>1404</th>\n",
       "      <td>4561143213625560</td>\n",
       "      <td>1362556</td>\n",
       "      <td>CC</td>\n",
       "      <td>N</td>\n",
       "      <td>20.1.1992</td>\n",
       "      <td>19.8.1995</td>\n",
       "      <td>1433.94</td>\n",
       "      <td>20.00</td>\n",
       "    </tr>\n",
       "    <tr>\n",
       "      <th>1405</th>\n",
       "      <td>4561143213626240</td>\n",
       "      <td>1362624</td>\n",
       "      <td>CC</td>\n",
       "      <td>Y</td>\n",
       "      <td>29.11.1990</td>\n",
       "      <td>NaN</td>\n",
       "      <td>632.75</td>\n",
       "      <td>1400.00</td>\n",
       "    </tr>\n",
       "    <tr>\n",
       "      <th>1406</th>\n",
       "      <td>4561143213628750</td>\n",
       "      <td>1362875</td>\n",
       "      <td>CC</td>\n",
       "      <td>Y</td>\n",
       "      <td>24.2.1989</td>\n",
       "      <td>NaN</td>\n",
       "      <td>2810.91</td>\n",
       "      <td>3000.00</td>\n",
       "    </tr>\n",
       "    <tr>\n",
       "      <th>1407</th>\n",
       "      <td>13626543</td>\n",
       "      <td>1362654</td>\n",
       "      <td>SV</td>\n",
       "      <td>Y</td>\n",
       "      <td>17.10.1992</td>\n",
       "      <td>NaN</td>\n",
       "      <td>784.53</td>\n",
       "      <td>622.46</td>\n",
       "    </tr>\n",
       "    <tr>\n",
       "      <th>1408</th>\n",
       "      <td>13627032</td>\n",
       "      <td>1362703</td>\n",
       "      <td>CK</td>\n",
       "      <td>Y</td>\n",
       "      <td>18.9.1994</td>\n",
       "      <td>NaN</td>\n",
       "      <td>3649.18</td>\n",
       "      <td>107.33</td>\n",
       "    </tr>\n",
       "  </tbody>\n",
       "</table>\n",
       "<p>1409 rows × 8 columns</p>\n",
       "</div>"
      ]
     },
     "metadata": {},
     "execution_count": 60
    }
   ],
   "metadata": {}
  },
  {
   "cell_type": "code",
   "execution_count": null,
   "source": [],
   "outputs": [],
   "metadata": {}
  }
 ],
 "metadata": {
  "kernelspec": {
   "display_name": "Python 3",
   "language": "python",
   "name": "python3"
  },
  "language_info": {
   "codemirror_mode": {
    "name": "ipython",
    "version": 3
   },
   "file_extension": ".py",
   "mimetype": "text/x-python",
   "name": "python",
   "nbconvert_exporter": "python",
   "pygments_lexer": "ipython3",
   "version": "3.7.6"
  }
 },
 "nbformat": 4,
 "nbformat_minor": 4
}